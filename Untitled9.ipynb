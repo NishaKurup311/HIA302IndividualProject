{
 "cells": [
  {
   "cell_type": "markdown",
   "id": "0820a569",
   "metadata": {},
   "source": [
    "## Part 2: Data Collection and Preparation Practical"
   ]
  },
  {
   "cell_type": "markdown",
   "id": "d2a18aca",
   "metadata": {},
   "source": [
    "a) Demonstrate different ways to convert the horse-colic.txt file to horsecolic.csv"
   ]
  },
  {
   "cell_type": "code",
   "execution_count": 2,
   "id": "88a0f2d4",
   "metadata": {},
   "outputs": [
    {
     "data": {
      "text/plain": [
       "'/Users/nishakurup'"
      ]
     },
     "execution_count": 2,
     "metadata": {},
     "output_type": "execute_result"
    }
   ],
   "source": [
    "#--Import required packages\n",
    "import pandas as pd\n",
    "import numpy as np\n",
    "import os\n",
    "os.getcwd()"
   ]
  },
  {
   "cell_type": "code",
   "execution_count": null,
   "id": "4c9ac4f7",
   "metadata": {},
   "outputs": [],
   "source": []
  }
 ],
 "metadata": {
  "kernelspec": {
   "display_name": "Python 3 (ipykernel)",
   "language": "python",
   "name": "python3"
  },
  "language_info": {
   "codemirror_mode": {
    "name": "ipython",
    "version": 3
   },
   "file_extension": ".py",
   "mimetype": "text/x-python",
   "name": "python",
   "nbconvert_exporter": "python",
   "pygments_lexer": "ipython3",
   "version": "3.9.12"
  }
 },
 "nbformat": 4,
 "nbformat_minor": 5
}
